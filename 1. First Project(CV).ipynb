{
 "cells": [
  {
   "cell_type": "markdown",
   "metadata": {},
   "source": [
    "* **Problems**\n",
    "1. `Loop` --> when used For Loop it's increase Time Complexity \n",
    "* **Soluton**\n",
    "1. Using `Numpy_array` & `Opencv`"
   ]
  },
  {
   "cell_type": "code",
   "execution_count": 1,
   "metadata": {},
   "outputs": [
    {
     "name": "stdout",
     "output_type": "stream",
     "text": [
      "The Time Befor Loop Is -->  1693269389.6618025\n",
      "The Time After Apply For Loop Is -->  1693269389.9975657\n",
      "The Final Time Is ==>  0.33576321601867676\n"
     ]
    }
   ],
   "source": [
    "import PIL \n",
    "from PIL import Image\n",
    "import time\n",
    "img = Image.open('D:\\\\AI\\\\17.2 - Computer Vision\\\\Data\\\\img.png')\n",
    "#Image Dimension\n",
    "(img_width,img_height) = img.size \n",
    "img_list =img.load()\n",
    "time1 = time.time()\n",
    "print('The Time Befor Loop Is --> ',time1)\n",
    "for i in range(img_width):\n",
    "    for j in range(img_height):\n",
    "        img_list[i,j]=(img_list[i,j][0]+50,\n",
    "                       img_list[i,j][1]+50,\n",
    "                       img_list[i,j][2]+50)\n",
    "time2 = time.time()\n",
    "print('The Time After Apply For Loop Is --> ',time2)\n",
    "print('The Final Time Is ==> ' ,time2 - time1)\n",
    "img.show()\n",
    "#img.save('Out')"
   ]
  },
  {
   "cell_type": "code",
   "execution_count": null,
   "metadata": {},
   "outputs": [],
   "source": []
  }
 ],
 "metadata": {
  "kernelspec": {
   "display_name": "Python 3",
   "language": "python",
   "name": "python3"
  },
  "language_info": {
   "codemirror_mode": {
    "name": "ipython",
    "version": 3
   },
   "file_extension": ".py",
   "mimetype": "text/x-python",
   "name": "python",
   "nbconvert_exporter": "python",
   "pygments_lexer": "ipython3",
   "version": "3.10.0"
  },
  "orig_nbformat": 4
 },
 "nbformat": 4,
 "nbformat_minor": 2
}
