{
 "cells": [
  {
   "cell_type": "markdown",
   "metadata": {},
   "source": [
    "* `0` --> Image Grayscale\n",
    "* `1` --> Image Color(RGB)\n",
    "* `-1` --> Image Alpha Channel"
   ]
  },
  {
   "cell_type": "code",
   "execution_count": 2,
   "metadata": {},
   "outputs": [
    {
     "name": "stdout",
     "output_type": "stream",
     "text": [
      "[[121 121 121 ...  11  11  12]\n",
      " [124 123 122 ...  11  11  12]\n",
      " [125 124 123 ...  11  11  12]\n",
      " ...\n",
      " [154 154 154 ...  90  90  94]\n",
      " [154 154 154 ...  89  89  93]\n",
      " [154 154 154 ...  92  92  96]]\n"
     ]
    }
   ],
   "source": [
    "import cv2 \n",
    "#Read Image \n",
    "img = cv2.imread('D:\\\\AI\\\\17.2 - Computer Vision\\\\Data\\\\img0.jpg',0)\n",
    "print(img)"
   ]
  },
  {
   "cell_type": "code",
   "execution_count": 3,
   "metadata": {},
   "outputs": [
    {
     "name": "stdout",
     "output_type": "stream",
     "text": [
      "[[[ 98 119 134]\n",
      "  [ 98 119 134]\n",
      "  [ 98 119 134]\n",
      "  ...\n",
      "  [  6  11  14]\n",
      "  [  6  11  14]\n",
      "  [  7  12  15]]\n",
      "\n",
      " [[101 122 137]\n",
      "  [100 121 136]\n",
      "  [ 99 120 135]\n",
      "  ...\n",
      "  [  6  11  14]\n",
      "  [  6  11  14]\n",
      "  [  7  12  15]]\n",
      "\n",
      " [[102 123 138]\n",
      "  [101 122 137]\n",
      "  [100 121 136]\n",
      "  ...\n",
      "  [  6  11  14]\n",
      "  [  6  11  14]\n",
      "  [  7  12  15]]\n",
      "\n",
      " ...\n",
      "\n",
      " [[145 154 157]\n",
      "  [145 154 157]\n",
      "  [145 154 157]\n",
      "  ...\n",
      "  [ 67  89 100]\n",
      "  [ 67  89 100]\n",
      "  [ 71  93 104]]\n",
      "\n",
      " [[145 154 157]\n",
      "  [145 154 157]\n",
      "  [145 154 157]\n",
      "  ...\n",
      "  [ 66  88  99]\n",
      "  [ 66  88  99]\n",
      "  [ 70  92 103]]\n",
      "\n",
      " [[145 154 157]\n",
      "  [145 154 157]\n",
      "  [145 154 157]\n",
      "  ...\n",
      "  [ 69  91 102]\n",
      "  [ 69  91 102]\n",
      "  [ 73  95 106]]]\n"
     ]
    }
   ],
   "source": [
    "img1 = cv2.imread('D:\\\\AI\\\\17.2 - Computer Vision\\\\Data\\\\img0.jpg',1)\n",
    "print(img1)"
   ]
  },
  {
   "cell_type": "code",
   "execution_count": 4,
   "metadata": {},
   "outputs": [
    {
     "name": "stdout",
     "output_type": "stream",
     "text": [
      "[[[ 98 119 134]\n",
      "  [ 98 119 134]\n",
      "  [ 98 119 134]\n",
      "  ...\n",
      "  [  6  11  14]\n",
      "  [  6  11  14]\n",
      "  [  7  12  15]]\n",
      "\n",
      " [[101 122 137]\n",
      "  [100 121 136]\n",
      "  [ 99 120 135]\n",
      "  ...\n",
      "  [  6  11  14]\n",
      "  [  6  11  14]\n",
      "  [  7  12  15]]\n",
      "\n",
      " [[102 123 138]\n",
      "  [101 122 137]\n",
      "  [100 121 136]\n",
      "  ...\n",
      "  [  6  11  14]\n",
      "  [  6  11  14]\n",
      "  [  7  12  15]]\n",
      "\n",
      " ...\n",
      "\n",
      " [[145 154 157]\n",
      "  [145 154 157]\n",
      "  [145 154 157]\n",
      "  ...\n",
      "  [ 67  89 100]\n",
      "  [ 67  89 100]\n",
      "  [ 71  93 104]]\n",
      "\n",
      " [[145 154 157]\n",
      "  [145 154 157]\n",
      "  [145 154 157]\n",
      "  ...\n",
      "  [ 66  88  99]\n",
      "  [ 66  88  99]\n",
      "  [ 70  92 103]]\n",
      "\n",
      " [[145 154 157]\n",
      "  [145 154 157]\n",
      "  [145 154 157]\n",
      "  ...\n",
      "  [ 69  91 102]\n",
      "  [ 69  91 102]\n",
      "  [ 73  95 106]]]\n"
     ]
    }
   ],
   "source": [
    "img2 = cv2.imread('D:\\\\AI\\\\17.2 - Computer Vision\\\\Data\\\\img0.jpg',-1)\n",
    "print(img2)"
   ]
  },
  {
   "cell_type": "code",
   "execution_count": 2,
   "metadata": {},
   "outputs": [
    {
     "name": "stdout",
     "output_type": "stream",
     "text": [
      "\t\tThe Image 1 Is When Using Grayscale :\n",
      " [[121 121 121 ...  11  11  12]\n",
      " [124 123 122 ...  11  11  12]\n",
      " [125 124 123 ...  11  11  12]\n",
      " ...\n",
      " [154 154 154 ...  90  90  94]\n",
      " [154 154 154 ...  89  89  93]\n",
      " [154 154 154 ...  92  92  96]]\n",
      "******************************************************************************************\n",
      "\t\tThe Image 1 Is When Using Color(RGB) :\n",
      " [[[ 98 119 134]\n",
      "  [ 98 119 134]\n",
      "  [ 98 119 134]\n",
      "  ...\n",
      "  [  6  11  14]\n",
      "  [  6  11  14]\n",
      "  [  7  12  15]]\n",
      "\n",
      " [[101 122 137]\n",
      "  [100 121 136]\n",
      "  [ 99 120 135]\n",
      "  ...\n",
      "  [  6  11  14]\n",
      "  [  6  11  14]\n",
      "  [  7  12  15]]\n",
      "\n",
      " [[102 123 138]\n",
      "  [101 122 137]\n",
      "  [100 121 136]\n",
      "  ...\n",
      "  [  6  11  14]\n",
      "  [  6  11  14]\n",
      "  [  7  12  15]]\n",
      "\n",
      " ...\n",
      "\n",
      " [[145 154 157]\n",
      "  [145 154 157]\n",
      "  [145 154 157]\n",
      "  ...\n",
      "  [ 67  89 100]\n",
      "  [ 67  89 100]\n",
      "  [ 71  93 104]]\n",
      "\n",
      " [[145 154 157]\n",
      "  [145 154 157]\n",
      "  [145 154 157]\n",
      "  ...\n",
      "  [ 66  88  99]\n",
      "  [ 66  88  99]\n",
      "  [ 70  92 103]]\n",
      "\n",
      " [[145 154 157]\n",
      "  [145 154 157]\n",
      "  [145 154 157]\n",
      "  ...\n",
      "  [ 69  91 102]\n",
      "  [ 69  91 102]\n",
      "  [ 73  95 106]]]\n"
     ]
    }
   ],
   "source": [
    "import cv2 \n",
    "img = cv2.imread('D:\\\\AI\\\\17.2 - Computer Vision\\\\Data\\\\img0.jpg',0)\n",
    "print('\\t\\tThe Image 1 Is When Using Grayscale :\\n',img)\n",
    "print('***'*30) \n",
    "img1 = cv2.imread('D:\\\\AI\\\\17.2 - Computer Vision\\\\Data\\\\img0.jpg',1)\n",
    "print('\\t\\tThe Image 1 Is When Using Color(RGB) :\\n',img1)\n",
    "#Show Image \n",
    "#Display Img1 \n",
    "cv2.imshow('Fisrt Image ',img)\n",
    "k = cv2.waitKey(0)\n",
    "if k == 27 : cv2.destroyAllWindows()\n",
    "elif k == ord('s'):\n",
    "    cv2.imwrite('Image_01.jpg',img)\n",
    "    cv2.destroyAllWindows()\n"
   ]
  }
 ],
 "metadata": {
  "kernelspec": {
   "display_name": "Python 3",
   "language": "python",
   "name": "python3"
  },
  "language_info": {
   "codemirror_mode": {
    "name": "ipython",
    "version": 3
   },
   "file_extension": ".py",
   "mimetype": "text/x-python",
   "name": "python",
   "nbconvert_exporter": "python",
   "pygments_lexer": "ipython3",
   "version": "3.10.0"
  },
  "orig_nbformat": 4
 },
 "nbformat": 4,
 "nbformat_minor": 2
}
